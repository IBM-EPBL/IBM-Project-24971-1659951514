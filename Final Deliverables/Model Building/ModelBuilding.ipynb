{
  "nbformat": 4,
  "nbformat_minor": 0,
  "metadata": {
    "colab": {
      "provenance": [],
      "mount_file_id": "1GljWYZi4jmCGGJ_rYEftoT8LvhK2aRUr",
      "authorship_tag": "ABX9TyNwRkhIlBoJPH7j2Em2MsVu",
      "include_colab_link": true
    },
    "kernelspec": {
      "name": "python3",
      "display_name": "Python 3"
    },
    "language_info": {
      "name": "python"
    }
  },
  "cells": [
    {
      "cell_type": "markdown",
      "metadata": {
        "id": "view-in-github",
        "colab_type": "text"
      },
      "source": [
        "<a href=\"https://colab.research.google.com/github/IBM-EPBL/IBM-Project-24971-1659951514/blob/master/Final%20Deliverables/Model%20Building/ModelBuilding.ipynb\" target=\"_parent\"><img src=\"https://colab.research.google.com/assets/colab-badge.svg\" alt=\"Open In Colab\"/></a>"
      ]
    },
    {
      "cell_type": "code",
      "source": [
        "from google.colab import drive\n",
        "drive.mount('/content/drive')"
      ],
      "metadata": {
        "colab": {
          "base_uri": "https://localhost:8080/"
        },
        "id": "6Uxkd0eDv1Vw",
        "outputId": "d74f3c34-8ca9-478f-b338-ed8a107ab22b"
      },
      "execution_count": null,
      "outputs": [
        {
          "output_type": "stream",
          "name": "stdout",
          "text": [
            "Mounted at /content/drive\n"
          ]
        }
      ]
    },
    {
      "cell_type": "markdown",
      "source": [
        "import keras libraries"
      ],
      "metadata": {
        "id": "XhhYyNMJtB5p"
      }
    },
    {
      "cell_type": "code",
      "execution_count": null,
      "metadata": {
        "id": "q098VxVCodtp"
      },
      "outputs": [],
      "source": [
        "\n",
        "from keras.models import Sequential\n",
        "from keras.layers import Dense\n",
        "from keras.layers import Convolution2D\n",
        "from keras.layers import MaxPooling2D\n",
        "from keras.layers import Flatten"
      ]
    },
    {
      "cell_type": "markdown",
      "source": [
        "image preprocessing(or) image augmentation"
      ],
      "metadata": {
        "id": "DiFqHBqGt5o2"
      }
    },
    {
      "cell_type": "code",
      "source": [
        "from keras.preprocessing.image import ImageDataGenerator"
      ],
      "metadata": {
        "id": "kLGRJsQIt6wx"
      },
      "execution_count": null,
      "outputs": []
    },
    {
      "cell_type": "code",
      "source": [
        "train_datagen = ImageDataGenerator(rescale=1./255,shear_range=0.2,zoom_range=0.2,horizontal_flip=True,vertical_flip=True)\n",
        "#rescale => rescaling pixel value from 0 to 255 to 0 to 1\n",
        "#shear_range=> counter clock wise rotation(anti clock)"
      ],
      "metadata": {
        "id": "y7L2bOaiuCXd"
      },
      "execution_count": null,
      "outputs": []
    },
    {
      "cell_type": "code",
      "source": [
        "test_datagen = ImageDataGenerator(rescale=1./255)"
      ],
      "metadata": {
        "id": "fQKDMypmuGHG"
      },
      "execution_count": null,
      "outputs": []
    },
    {
      "cell_type": "code",
      "source": [
        "x_train = train_datagen.flow_from_directory(r'/content/drive/MyDrive/content/TRAIN_SET/TRAIN_SET',target_size=(64, 64),batch_size=5,color_mode='rgb',class_mode='sparse')\n",
        "#performing data agumentation to test data\n",
        "x_test = test_datagen.flow_from_directory(r'/content/drive/MyDrive/content/TEST_SET/TEST_SET',target_size=(64, 64),batch_size=5,color_mode='rgb',class_mode='sparse') "
      ],
      "metadata": {
        "colab": {
          "base_uri": "https://localhost:8080/"
        },
        "id": "WtLwGYqBuOJq",
        "outputId": "ab3a05f9-9090-42d2-b350-f7dc975e90d8"
      },
      "execution_count": null,
      "outputs": [
        {
          "output_type": "stream",
          "name": "stdout",
          "text": [
            "Found 2626 images belonging to 5 classes.\n",
            "Found 1055 images belonging to 5 classes.\n"
          ]
        }
      ]
    },
    {
      "cell_type": "code",
      "source": [
        "x_train.class_indices"
      ],
      "metadata": {
        "colab": {
          "base_uri": "https://localhost:8080/"
        },
        "id": "1hvVapMKwCsv",
        "outputId": "26586335-a423-4f94-9593-d3984039cb1f"
      },
      "execution_count": null,
      "outputs": [
        {
          "output_type": "execute_result",
          "data": {
            "text/plain": [
              "{'APPLES': 0, 'BANANA': 1, 'ORANGE': 2, 'PINEAPPLE': 3, 'WATERMELON': 4}"
            ]
          },
          "metadata": {},
          "execution_count": 9
        }
      ]
    },
    {
      "cell_type": "code",
      "source": [
        "#checking the number of classes\n",
        "x_test.class_indices"
      ],
      "metadata": {
        "colab": {
          "base_uri": "https://localhost:8080/"
        },
        "id": "8yQBL-XWwHYo",
        "outputId": "8cf15e6f-389a-47a6-fc90-e5663df515e7"
      },
      "execution_count": null,
      "outputs": [
        {
          "output_type": "execute_result",
          "data": {
            "text/plain": [
              "{'APPLES': 0, 'BANANA': 1, 'ORANGE': 2, 'PINEAPPLE': 3, 'WATERMELON': 4}"
            ]
          },
          "metadata": {},
          "execution_count": 10
        }
      ]
    },
    {
      "cell_type": "code",
      "source": [
        "from collections import Counter as c\n",
        "c(x_train .labels)"
      ],
      "metadata": {
        "colab": {
          "base_uri": "https://localhost:8080/"
        },
        "id": "5kkwGjMlwXyN",
        "outputId": "1bd1de34-7629-4fde-e956-b9dd195334c2"
      },
      "execution_count": null,
      "outputs": [
        {
          "output_type": "execute_result",
          "data": {
            "text/plain": [
              "Counter({0: 606, 1: 445, 2: 479, 3: 621, 4: 475})"
            ]
          },
          "metadata": {},
          "execution_count": 11
        }
      ]
    },
    {
      "cell_type": "code",
      "source": [
        "#Initializing the model\n",
        "model = Sequential()"
      ],
      "metadata": {
        "id": "yeE5JqRUwakD"
      },
      "execution_count": null,
      "outputs": []
    },
    {
      "cell_type": "markdown",
      "source": [
        " Add First convolution layer"
      ],
      "metadata": {
        "id": "cL1tOODTweAV"
      }
    },
    {
      "cell_type": "code",
      "source": [
        "model.add(Convolution2D(32,(3,3),input_shape=(64,64,3),activation=\"relu\"))\n",
        "# 32 indicates => no of feature detectors\n",
        "#(3,3)=> kernel size (feature detector size)"
      ],
      "metadata": {
        "id": "48y_JaKIwgcz"
      },
      "execution_count": null,
      "outputs": []
    },
    {
      "cell_type": "markdown",
      "source": [
        " Add Maxpooling layer"
      ],
      "metadata": {
        "id": "qeHVVj2pwogL"
      }
    },
    {
      "cell_type": "code",
      "source": [
        "model.add(MaxPooling2D(pool_size=(2,2)))"
      ],
      "metadata": {
        "id": "BlqItMBPwnD_"
      },
      "execution_count": null,
      "outputs": []
    },
    {
      "cell_type": "markdown",
      "source": [
        "Second convolution layer and pooling"
      ],
      "metadata": {
        "id": "SL1tnudIw1fj"
      }
    },
    {
      "cell_type": "code",
      "source": [
        "model.add(Convolution2D(32,(3,3),activation='relu'))"
      ],
      "metadata": {
        "id": "9WsKCHy2w2df"
      },
      "execution_count": null,
      "outputs": []
    },
    {
      "cell_type": "code",
      "source": [
        "model.add(MaxPooling2D(pool_size=(2,2)))"
      ],
      "metadata": {
        "id": "oKg9BQwOw6dl"
      },
      "execution_count": null,
      "outputs": []
    },
    {
      "cell_type": "markdown",
      "source": [
        "Flattening the layers"
      ],
      "metadata": {
        "id": "kXqbX8UXw9lj"
      }
    },
    {
      "cell_type": "code",
      "source": [
        "model.add(Flatten())"
      ],
      "metadata": {
        "id": "9kMWYwHcw-wg"
      },
      "execution_count": null,
      "outputs": []
    },
    {
      "cell_type": "code",
      "source": [
        "model.add(Dense(units=128,activation='relu'))"
      ],
      "metadata": {
        "id": "Akc-Ocf-xDXv"
      },
      "execution_count": null,
      "outputs": []
    },
    {
      "cell_type": "code",
      "source": [
        "model.add(Dense(units=5,activation='softmax'))"
      ],
      "metadata": {
        "id": "2mLa1j90xHL1"
      },
      "execution_count": null,
      "outputs": []
    },
    {
      "cell_type": "code",
      "source": [
        "model.summary()"
      ],
      "metadata": {
        "colab": {
          "base_uri": "https://localhost:8080/"
        },
        "id": "ArT6X56NxKQM",
        "outputId": "93da5919-1cd3-4f07-9745-8bc19e539477"
      },
      "execution_count": null,
      "outputs": [
        {
          "output_type": "stream",
          "name": "stdout",
          "text": [
            "Model: \"sequential\"\n",
            "_________________________________________________________________\n",
            " Layer (type)                Output Shape              Param #   \n",
            "=================================================================\n",
            " conv2d (Conv2D)             (None, 62, 62, 32)        896       \n",
            "                                                                 \n",
            " max_pooling2d (MaxPooling2D  (None, 31, 31, 32)       0         \n",
            " )                                                               \n",
            "                                                                 \n",
            " conv2d_1 (Conv2D)           (None, 29, 29, 32)        9248      \n",
            "                                                                 \n",
            " max_pooling2d_1 (MaxPooling  (None, 14, 14, 32)       0         \n",
            " 2D)                                                             \n",
            "                                                                 \n",
            " flatten (Flatten)           (None, 6272)              0         \n",
            "                                                                 \n",
            " dense (Dense)               (None, 128)               802944    \n",
            "                                                                 \n",
            " dense_1 (Dense)             (None, 5)                 645       \n",
            "                                                                 \n",
            "=================================================================\n",
            "Total params: 813,733\n",
            "Trainable params: 813,733\n",
            "Non-trainable params: 0\n",
            "_________________________________________________________________\n"
          ]
        }
      ]
    },
    {
      "cell_type": "markdown",
      "source": [
        "Adding dense layer"
      ],
      "metadata": {
        "id": "qc-Rn0ZLxZhG"
      }
    },
    {
      "cell_type": "code",
      "source": [
        "model.add(Dense(units=300,kernel_initializer=\"random_uniform\",activation=\"relu\"))\n",
        "model.add(Dense(units=200,kernel_initializer=\"random_uniform\",activation=\"relu\"))"
      ],
      "metadata": {
        "id": "3D92w4m1xYZP"
      },
      "execution_count": null,
      "outputs": []
    },
    {
      "cell_type": "markdown",
      "source": [
        "output layer"
      ],
      "metadata": {
        "id": "9rn2iXoaxndd"
      }
    },
    {
      "cell_type": "code",
      "source": [
        "model.add(Dense(units=4,kernel_initializer=\"random_uniform\",activation=\"softmax\"))\n",
        "len(x_train)"
      ],
      "metadata": {
        "colab": {
          "base_uri": "https://localhost:8080/"
        },
        "id": "jjSfZCKhxjpB",
        "outputId": "652ef894-0d81-4ad5-c84a-0f0cd39b330e"
      },
      "execution_count": null,
      "outputs": [
        {
          "output_type": "execute_result",
          "data": {
            "text/plain": [
              "526"
            ]
          },
          "metadata": {},
          "execution_count": 22
        }
      ]
    },
    {
      "cell_type": "code",
      "source": [
        "model.add(Dense(units=128,activation=\"relu\",kernel_initializer=\"random_uniform\"))\n",
        "model.add(Dense(units=1,activation=\"sigmoid\",kernel_initializer=\"random_uniform\"))"
      ],
      "metadata": {
        "id": "JR10cc_dxzS6"
      },
      "execution_count": null,
      "outputs": []
    },
    {
      "cell_type": "code",
      "source": [
        "#Compile the model\n",
        "model.compile(loss=\"binary_crossentropy\",optimizer=\"adam\",metrics=['accuracy'])"
      ],
      "metadata": {
        "id": "V8O7Bda6x0oI"
      },
      "execution_count": null,
      "outputs": []
    },
    {
      "cell_type": "code",
      "source": [
        "#Train the model\n",
        "model.fit_generator(x_train,steps_per_epoch=len(x_train), validation_data=x_test, validation_steps=len(x_test), epochs= 20)"
      ],
      "metadata": {
        "colab": {
          "base_uri": "https://localhost:8080/"
        },
        "id": "-hDmlQfOyo2C",
        "outputId": "cf4fe13f-a20e-4571-fc36-b4c238392793"
      },
      "execution_count": null,
      "outputs": [
        {
          "output_type": "stream",
          "name": "stderr",
          "text": [
            "/usr/local/lib/python3.7/dist-packages/ipykernel_launcher.py:2: UserWarning: `Model.fit_generator` is deprecated and will be removed in a future version. Please use `Model.fit`, which supports generators.\n",
            "  \n"
          ]
        },
        {
          "output_type": "stream",
          "name": "stdout",
          "text": [
            "Epoch 1/20\n",
            "526/526 [==============================] - 1034s 2s/step - loss: -12.4033 - accuracy: 0.1698 - val_loss: -39.6402 - val_accuracy: 0.2720\n",
            "Epoch 2/20\n",
            "526/526 [==============================] - 18s 35ms/step - loss: -87.9913 - accuracy: 0.1695 - val_loss: -155.7505 - val_accuracy: 0.2720\n",
            "Epoch 3/20\n",
            "526/526 [==============================] - 17s 33ms/step - loss: -232.3623 - accuracy: 0.1695 - val_loss: -339.4205 - val_accuracy: 0.2720\n",
            "Epoch 4/20\n",
            "526/526 [==============================] - 19s 36ms/step - loss: -437.7964 - accuracy: 0.1695 - val_loss: -581.5633 - val_accuracy: 0.2720\n",
            "Epoch 5/20\n",
            "526/526 [==============================] - 18s 33ms/step - loss: -691.3951 - accuracy: 0.1695 - val_loss: -867.6689 - val_accuracy: 0.2720\n",
            "Epoch 6/20\n",
            "526/526 [==============================] - 19s 36ms/step - loss: -990.7454 - accuracy: 0.1695 - val_loss: -1203.2013 - val_accuracy: 0.2720\n",
            "Epoch 7/20\n",
            "526/526 [==============================] - 18s 34ms/step - loss: -1329.9568 - accuracy: 0.1695 - val_loss: -1573.2781 - val_accuracy: 0.2720\n",
            "Epoch 8/20\n",
            "526/526 [==============================] - 18s 34ms/step - loss: -1707.3994 - accuracy: 0.1695 - val_loss: -1985.8990 - val_accuracy: 0.2720\n",
            "Epoch 9/20\n",
            "526/526 [==============================] - 19s 35ms/step - loss: -2118.4387 - accuracy: 0.1695 - val_loss: -2432.8035 - val_accuracy: 0.2720\n",
            "Epoch 10/20\n",
            "526/526 [==============================] - 17s 33ms/step - loss: -2566.3459 - accuracy: 0.1695 - val_loss: -2918.0291 - val_accuracy: 0.2720\n",
            "Epoch 11/20\n",
            "526/526 [==============================] - 18s 34ms/step - loss: -3050.1121 - accuracy: 0.1695 - val_loss: -3438.5159 - val_accuracy: 0.2720\n",
            "Epoch 12/20\n",
            "526/526 [==============================] - 18s 33ms/step - loss: -3567.3862 - accuracy: 0.1695 - val_loss: -3994.7871 - val_accuracy: 0.2720\n",
            "Epoch 13/20\n",
            "526/526 [==============================] - 18s 34ms/step - loss: -4119.9302 - accuracy: 0.1695 - val_loss: -4586.1392 - val_accuracy: 0.2720\n",
            "Epoch 14/20\n",
            "526/526 [==============================] - 19s 35ms/step - loss: -4708.6841 - accuracy: 0.1695 - val_loss: -5222.0835 - val_accuracy: 0.2720\n",
            "Epoch 15/20\n",
            "526/526 [==============================] - 18s 33ms/step - loss: -5331.3892 - accuracy: 0.1695 - val_loss: -5886.2354 - val_accuracy: 0.2720\n",
            "Epoch 16/20\n",
            "526/526 [==============================] - 19s 36ms/step - loss: -5984.1499 - accuracy: 0.1695 - val_loss: -6581.3047 - val_accuracy: 0.2720\n",
            "Epoch 17/20\n",
            "526/526 [==============================] - 18s 33ms/step - loss: -6669.8901 - accuracy: 0.1695 - val_loss: -7314.8232 - val_accuracy: 0.2720\n",
            "Epoch 18/20\n",
            "526/526 [==============================] - 18s 33ms/step - loss: -7389.1582 - accuracy: 0.1695 - val_loss: -8083.3374 - val_accuracy: 0.2720\n",
            "Epoch 19/20\n",
            "526/526 [==============================] - 19s 36ms/step - loss: -8146.0200 - accuracy: 0.1695 - val_loss: -8883.8945 - val_accuracy: 0.2720\n",
            "Epoch 20/20\n",
            "526/526 [==============================] - 17s 33ms/step - loss: -8934.1299 - accuracy: 0.1695 - val_loss: -9718.2812 - val_accuracy: 0.2720\n"
          ]
        },
        {
          "output_type": "execute_result",
          "data": {
            "text/plain": [
              "<keras.callbacks.History at 0x7f0fded044d0>"
            ]
          },
          "metadata": {},
          "execution_count": 25
        }
      ]
    },
    {
      "cell_type": "code",
      "source": [
        "model.save(\"nutrition.h5\")"
      ],
      "metadata": {
        "id": "YV5Uj9pizXz9"
      },
      "execution_count": null,
      "outputs": []
    },
    {
      "cell_type": "markdown",
      "source": [
        "Prediction the result"
      ],
      "metadata": {
        "id": "fZb6oD9XOUo-"
      }
    },
    {
      "cell_type": "code",
      "source": [
        "from tensorflow.keras.models import load_model\n",
        "from keras.preprocessing  import image\n",
        "model =load_model(\"nutrition.h5\")"
      ],
      "metadata": {
        "id": "lTgwQuAlLBa-"
      },
      "execution_count": null,
      "outputs": []
    },
    {
      "cell_type": "code",
      "source": [
        "import numpy as np"
      ],
      "metadata": {
        "id": "o4jazNBOObcu"
      },
      "execution_count": null,
      "outputs": []
    },
    {
      "cell_type": "code",
      "source": [
        "from tensorflow.keras.utils import load_img\n",
        "from tensorflow.keras.utils import img_to_array\n",
        "#loading of the image\n",
        "img = load_img(r'/content/drive/MyDrive/content/TEST_SET/TEST_SET/BANANA/32_100.jpg', grayscale=False,target_size=(64,64))\n",
        "#image to array \n",
        "x = img_to_array(img)\n",
        "#changing the shape\n",
        "x= np.expand_dims(x,axis = 0)\n",
        "predict_x=model.predict(x)\n",
        "classes_x=np.argmax(predict_x,axis = -1)\n",
        "classes_x[0]"
      ],
      "metadata": {
        "colab": {
          "base_uri": "https://localhost:8080/"
        },
        "id": "_hH2sFs7OiAG",
        "outputId": "59b83d01-da8f-47c8-d7fa-6aed4822d497"
      },
      "execution_count": null,
      "outputs": [
        {
          "output_type": "stream",
          "name": "stdout",
          "text": [
            "1/1 [==============================] - 0s 145ms/step\n"
          ]
        },
        {
          "output_type": "execute_result",
          "data": {
            "text/plain": [
              "0"
            ]
          },
          "metadata": {},
          "execution_count": 29
        }
      ]
    },
    {
      "cell_type": "code",
      "source": [
        "index=['BANANA','APPLES', 'ORANGE', 'PINEAPPLE', 'WATERMELON']\n",
        "result=str(index[classes_x[0]])\n",
        "result"
      ],
      "metadata": {
        "colab": {
          "base_uri": "https://localhost:8080/",
          "height": 35
        },
        "id": "sW0aExjmPPLE",
        "outputId": "72562722-1ae4-4164-add7-5ad76a0091df"
      },
      "execution_count": null,
      "outputs": [
        {
          "output_type": "execute_result",
          "data": {
            "text/plain": [
              "'BANANA'"
            ],
            "application/vnd.google.colaboratory.intrinsic+json": {
              "type": "string"
            }
          },
          "metadata": {},
          "execution_count": 30
        }
      ]
    },
    {
      "cell_type": "markdown",
      "source": [
        "Saving the model"
      ],
      "metadata": {
        "id": "f-y_ff09wg-B"
      }
    },
    {
      "cell_type": "code",
      "source": [
        "model.save(\"model.h5\")"
      ],
      "metadata": {
        "id": "Ru-Nn729uc-2"
      },
      "execution_count": null,
      "outputs": []
    }
  ]
}