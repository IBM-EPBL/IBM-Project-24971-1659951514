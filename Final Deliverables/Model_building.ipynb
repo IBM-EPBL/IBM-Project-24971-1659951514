{
    "cells": [
        {
            "cell_type": "code",
            "execution_count": 42,
            "metadata": {},
            "outputs": [
                {
                    "data": {
                        "text/plain": "'/home/wsuser/work'"
                    },
                    "execution_count": 42,
                    "metadata": {},
                    "output_type": "execute_result"
                }
            ],
            "source": "pwd"
        },
        {
            "cell_type": "code",
            "execution_count": 43,
            "metadata": {},
            "outputs": [
                {
                    "name": "stdout",
                    "output_type": "stream",
                    "text": "\u001b[33mWARNING: Ignoring invalid distribution -eras (/opt/conda/envs/Python-3.9/lib/python3.9/site-packages)\u001b[0m\n\u001b[33mWARNING: Ignoring invalid distribution -eras (/opt/conda/envs/Python-3.9/lib/python3.9/site-packages)\u001b[0m\nCollecting keras==2.2.4\n  Using cached Keras-2.2.4-py2.py3-none-any.whl (312 kB)\nRequirement already satisfied: keras-preprocessing>=1.0.5 in /opt/conda/envs/Python-3.9/lib/python3.9/site-packages (from keras==2.2.4) (1.1.2)\nRequirement already satisfied: h5py in /opt/conda/envs/Python-3.9/lib/python3.9/site-packages (from keras==2.2.4) (3.2.1)\nRequirement already satisfied: pyyaml in /opt/conda/envs/Python-3.9/lib/python3.9/site-packages (from keras==2.2.4) (5.4.1)\nRequirement already satisfied: numpy>=1.9.1 in /opt/conda/envs/Python-3.9/lib/python3.9/site-packages (from keras==2.2.4) (1.20.3)\nRequirement already satisfied: keras-applications>=1.0.6 in /opt/conda/envs/Python-3.9/lib/python3.9/site-packages (from keras==2.2.4) (1.0.8)\nRequirement already satisfied: six>=1.9.0 in /opt/conda/envs/Python-3.9/lib/python3.9/site-packages (from keras==2.2.4) (1.15.0)\nRequirement already satisfied: scipy>=0.14 in /opt/conda/envs/Python-3.9/lib/python3.9/site-packages (from keras==2.2.4) (1.7.3)\n\u001b[33mWARNING: Ignoring invalid distribution -eras (/opt/conda/envs/Python-3.9/lib/python3.9/site-packages)\u001b[0m\nInstalling collected packages: keras\n  Attempting uninstall: keras\n\u001b[33m    WARNING: Ignoring invalid distribution -eras (/opt/conda/envs/Python-3.9/lib/python3.9/site-packages)\u001b[0m\n    Found existing installation: keras 2.7.0\n    Uninstalling keras-2.7.0:\n      Successfully uninstalled keras-2.7.0\n\u001b[33mWARNING: Ignoring invalid distribution -eras (/opt/conda/envs/Python-3.9/lib/python3.9/site-packages)\u001b[0m\n\u001b[31mERROR: pip's dependency resolver does not currently take into account all the packages that are installed. This behaviour is the source of the following dependency conflicts.\ntensorflow 2.7.2 requires keras<2.8,>=2.7.0, but you have keras 2.2.4 which is incompatible.\u001b[0m\nSuccessfully installed keras-2.2.4\n\u001b[33mWARNING: Ignoring invalid distribution -eras (/opt/conda/envs/Python-3.9/lib/python3.9/site-packages)\u001b[0m\n\u001b[33mWARNING: Ignoring invalid distribution -eras (/opt/conda/envs/Python-3.9/lib/python3.9/site-packages)\u001b[0m\nRequirement already satisfied: tensorflow in /opt/conda/envs/Python-3.9/lib/python3.9/site-packages (2.7.2)\nRequirement already satisfied: absl-py>=0.4.0 in /opt/conda/envs/Python-3.9/lib/python3.9/site-packages (from tensorflow) (0.12.0)\nRequirement already satisfied: tensorboard~=2.7 in /opt/conda/envs/Python-3.9/lib/python3.9/site-packages (from tensorflow) (2.7.0)\nRequirement already satisfied: protobuf>=3.9.2 in /opt/conda/envs/Python-3.9/lib/python3.9/site-packages (from tensorflow) (3.19.1)\nRequirement already satisfied: six>=1.12.0 in /opt/conda/envs/Python-3.9/lib/python3.9/site-packages (from tensorflow) (1.15.0)\nRequirement already satisfied: gast<0.5.0,>=0.2.1 in /opt/conda/envs/Python-3.9/lib/python3.9/site-packages (from tensorflow) (0.4.0)\nRequirement already satisfied: typing-extensions>=3.6.6 in /opt/conda/envs/Python-3.9/lib/python3.9/site-packages (from tensorflow) (4.1.1)\nRequirement already satisfied: astunparse>=1.6.0 in /opt/conda/envs/Python-3.9/lib/python3.9/site-packages (from tensorflow) (1.6.3)\nRequirement already satisfied: keras-preprocessing>=1.1.1 in /opt/conda/envs/Python-3.9/lib/python3.9/site-packages (from tensorflow) (1.1.2)\nRequirement already satisfied: wheel<1.0,>=0.32.0 in /opt/conda/envs/Python-3.9/lib/python3.9/site-packages (from tensorflow) (0.37.0)\nRequirement already satisfied: termcolor>=1.1.0 in /opt/conda/envs/Python-3.9/lib/python3.9/site-packages (from tensorflow) (1.1.0)\nRequirement already satisfied: flatbuffers<3.0,>=1.12 in /opt/conda/envs/Python-3.9/lib/python3.9/site-packages (from tensorflow) (2.0)\nRequirement already satisfied: wrapt>=1.11.0 in /opt/conda/envs/Python-3.9/lib/python3.9/site-packages (from tensorflow) (1.12.1)\nRequirement already satisfied: opt-einsum>=2.3.2 in /opt/conda/envs/Python-3.9/lib/python3.9/site-packages (from tensorflow) (3.3.0)\nRequirement already satisfied: grpcio<2.0,>=1.24.3 in /opt/conda/envs/Python-3.9/lib/python3.9/site-packages (from tensorflow) (1.42.0)\nCollecting keras<2.8,>=2.7.0\n  Using cached keras-2.7.0-py2.py3-none-any.whl (1.3 MB)\nRequirement already satisfied: google-pasta>=0.1.1 in /opt/conda/envs/Python-3.9/lib/python3.9/site-packages (from tensorflow) (0.2.0)\nRequirement already satisfied: numpy>=1.14.5 in /opt/conda/envs/Python-3.9/lib/python3.9/site-packages (from tensorflow) (1.20.3)\nRequirement already satisfied: h5py>=2.9.0 in /opt/conda/envs/Python-3.9/lib/python3.9/site-packages (from tensorflow) (3.2.1)\nRequirement already satisfied: tensorflow-estimator<2.8,~=2.7.0 in /opt/conda/envs/Python-3.9/lib/python3.9/site-packages (from tensorflow) (2.7.0)\nRequirement already satisfied: tensorflow-io-gcs-filesystem>=0.21.0 in /opt/conda/envs/Python-3.9/lib/python3.9/site-packages (from tensorflow) (0.23.1)\nRequirement already satisfied: tensorboard-data-server<0.7.0,>=0.6.0 in /opt/conda/envs/Python-3.9/lib/python3.9/site-packages (from tensorboard~=2.7->tensorflow) (0.6.1)\nRequirement already satisfied: google-auth<3,>=1.6.3 in /opt/conda/envs/Python-3.9/lib/python3.9/site-packages (from tensorboard~=2.7->tensorflow) (1.23.0)\nRequirement already satisfied: tensorboard-plugin-wit>=1.6.0 in /opt/conda/envs/Python-3.9/lib/python3.9/site-packages (from tensorboard~=2.7->tensorflow) (1.6.0)\nRequirement already satisfied: google-auth-oauthlib<0.5,>=0.4.1 in /opt/conda/envs/Python-3.9/lib/python3.9/site-packages (from tensorboard~=2.7->tensorflow) (0.4.4)\nRequirement already satisfied: requests<3,>=2.21.0 in /opt/conda/envs/Python-3.9/lib/python3.9/site-packages (from tensorboard~=2.7->tensorflow) (2.26.0)\nRequirement already satisfied: setuptools>=41.0.0 in /opt/conda/envs/Python-3.9/lib/python3.9/site-packages (from tensorboard~=2.7->tensorflow) (58.0.4)\nRequirement already satisfied: markdown>=2.6.8 in /opt/conda/envs/Python-3.9/lib/python3.9/site-packages (from tensorboard~=2.7->tensorflow) (3.3.3)\nRequirement already satisfied: werkzeug>=0.11.15 in /opt/conda/envs/Python-3.9/lib/python3.9/site-packages (from tensorboard~=2.7->tensorflow) (2.0.2)\nRequirement already satisfied: cachetools<5.0,>=2.0.0 in /opt/conda/envs/Python-3.9/lib/python3.9/site-packages (from google-auth<3,>=1.6.3->tensorboard~=2.7->tensorflow) (4.2.2)\nRequirement already satisfied: rsa<5,>=3.1.4 in /opt/conda/envs/Python-3.9/lib/python3.9/site-packages (from google-auth<3,>=1.6.3->tensorboard~=2.7->tensorflow) (4.7.2)\nRequirement already satisfied: pyasn1-modules>=0.2.1 in /opt/conda/envs/Python-3.9/lib/python3.9/site-packages (from google-auth<3,>=1.6.3->tensorboard~=2.7->tensorflow) (0.2.8)\nRequirement already satisfied: requests-oauthlib>=0.7.0 in /opt/conda/envs/Python-3.9/lib/python3.9/site-packages (from google-auth-oauthlib<0.5,>=0.4.1->tensorboard~=2.7->tensorflow) (1.3.0)\nRequirement already satisfied: pyasn1<0.5.0,>=0.4.6 in /opt/conda/envs/Python-3.9/lib/python3.9/site-packages (from pyasn1-modules>=0.2.1->google-auth<3,>=1.6.3->tensorboard~=2.7->tensorflow) (0.4.8)\nRequirement already satisfied: urllib3<1.27,>=1.21.1 in /opt/conda/envs/Python-3.9/lib/python3.9/site-packages (from requests<3,>=2.21.0->tensorboard~=2.7->tensorflow) (1.26.7)\nRequirement already satisfied: certifi>=2017.4.17 in /opt/conda/envs/Python-3.9/lib/python3.9/site-packages (from requests<3,>=2.21.0->tensorboard~=2.7->tensorflow) (2022.9.24)\nRequirement already satisfied: charset-normalizer~=2.0.0 in /opt/conda/envs/Python-3.9/lib/python3.9/site-packages (from requests<3,>=2.21.0->tensorboard~=2.7->tensorflow) (2.0.4)\nRequirement already satisfied: idna<4,>=2.5 in /opt/conda/envs/Python-3.9/lib/python3.9/site-packages (from requests<3,>=2.21.0->tensorboard~=2.7->tensorflow) (3.3)\nRequirement already satisfied: oauthlib>=3.0.0 in /opt/conda/envs/Python-3.9/lib/python3.9/site-packages (from requests-oauthlib>=0.7.0->google-auth-oauthlib<0.5,>=0.4.1->tensorboard~=2.7->tensorflow) (3.2.1)\n\u001b[33mWARNING: Ignoring invalid distribution -eras (/opt/conda/envs/Python-3.9/lib/python3.9/site-packages)\u001b[0m\nInstalling collected packages: keras\n  Attempting uninstall: keras\n\u001b[33m    WARNING: Ignoring invalid distribution -eras (/opt/conda/envs/Python-3.9/lib/python3.9/site-packages)\u001b[0m\n    Found existing installation: Keras 2.2.4\n    Uninstalling Keras-2.2.4:\n      Successfully uninstalled Keras-2.2.4\n\u001b[33mWARNING: Ignoring invalid distribution -eras (/opt/conda/envs/Python-3.9/lib/python3.9/site-packages)\u001b[0m\nSuccessfully installed keras-2.7.0\n"
                }
            ],
            "source": "!pip install keras==2.2.4\n!pip install tensorflow"
        },
        {
            "cell_type": "markdown",
            "metadata": {
                "id": "XhhYyNMJtB5p"
            },
            "source": "import keras libraries"
        },
        {
            "cell_type": "code",
            "execution_count": 44,
            "metadata": {
                "id": "q098VxVCodtp"
            },
            "outputs": [],
            "source": "from keras.models import Sequential\nfrom keras.layers import Dense\nfrom keras.layers import Convolution2D\nfrom keras.layers import MaxPooling2D\nfrom keras.layers import Flatten"
        },
        {
            "cell_type": "code",
            "execution_count": null,
            "metadata": {},
            "outputs": [],
            "source": ""
        },
        {
            "cell_type": "markdown",
            "metadata": {
                "id": "DiFqHBqGt5o2"
            },
            "source": "image preprocessing(or) image augmentation"
        },
        {
            "cell_type": "code",
            "execution_count": 45,
            "metadata": {
                "id": "kLGRJsQIt6wx"
            },
            "outputs": [],
            "source": "from keras.preprocessing.image import ImageDataGenerator"
        },
        {
            "cell_type": "code",
            "execution_count": 46,
            "metadata": {
                "id": "y7L2bOaiuCXd"
            },
            "outputs": [],
            "source": "train_datagen = ImageDataGenerator(rescale=1./255,shear_range=0.2,zoom_range=0.2,horizontal_flip=True,vertical_flip=True)\n#rescale => rescaling pixel value from 0 to 255 to 0 to 1\n#shear_range=> counter clock wise rotation(anti clock)"
        },
        {
            "cell_type": "code",
            "execution_count": 47,
            "metadata": {
                "id": "fQKDMypmuGHG"
            },
            "outputs": [],
            "source": "test_datagen = ImageDataGenerator(rescale=1./255)"
        },
        {
            "cell_type": "code",
            "execution_count": 49,
            "metadata": {},
            "outputs": [],
            "source": "# The code was removed by Watson Studio for sharing."
        },
        {
            "cell_type": "code",
            "execution_count": 50,
            "metadata": {},
            "outputs": [],
            "source": "# The code was removed by Watson Studio for sharing."
        },
        {
            "cell_type": "code",
            "execution_count": 51,
            "metadata": {},
            "outputs": [],
            "source": "from io import BytesIO\nimport zipfile\nunzip = zipfile.ZipFile(BytesIO(streaming_body_3.read()), \"r\")\nfile_paths = unzip.namelist()\nfor path in file_paths:\n    unzip.extract(path)"
        },
        {
            "cell_type": "code",
            "execution_count": 52,
            "metadata": {},
            "outputs": [],
            "source": "unzip = zipfile.ZipFile(BytesIO(streaming_body_4.read()), \"r\")\nfile_paths_train = unzip.namelist()\nfor path in file_paths_train:\n    unzip.extract(path)"
        },
        {
            "cell_type": "code",
            "execution_count": 53,
            "metadata": {},
            "outputs": [],
            "source": "unzip = zipfile.ZipFile(BytesIO(streaming_body_5.read()), \"r\")\nfile_paths_test = unzip.namelist()\nfor path in file_paths_test:\n    unzip.extract(path)"
        },
        {
            "cell_type": "code",
            "execution_count": 54,
            "metadata": {},
            "outputs": [],
            "source": "import os\nfilename = os.listdir(\"/home/wsuser/work/Dataset/TRAIN_SET\")"
        },
        {
            "cell_type": "code",
            "execution_count": 55,
            "metadata": {},
            "outputs": [],
            "source": "filename = os.listdir(\"/home/wsuser/work/TRAIN_SET/APPLES\")"
        },
        {
            "cell_type": "code",
            "execution_count": 56,
            "metadata": {
                "colab": {
                    "base_uri": "https://localhost:8080/"
                },
                "id": "WtLwGYqBuOJq",
                "outputId": "a6a957ab-8f2c-4308-821a-a2f6f0509155"
            },
            "outputs": [
                {
                    "name": "stdout",
                    "output_type": "stream",
                    "text": "Found 2626 images belonging to 5 classes.\nFound 1055 images belonging to 5 classes.\n"
                }
            ],
            "source": "x_train = train_datagen.flow_from_directory(r'/home/wsuser/work/TRAIN_SET/',target_size=(64, 64),batch_size=5,color_mode='rgb',class_mode='sparse')\n#performing data agumentation to test data\nx_test = test_datagen.flow_from_directory(r'/home/wsuser/work/TEST_SET/',target_size=(64, 64),batch_size=5,color_mode='rgb',class_mode='sparse') "
        },
        {
            "cell_type": "code",
            "execution_count": 57,
            "metadata": {
                "colab": {
                    "base_uri": "https://localhost:8080/"
                },
                "id": "1hvVapMKwCsv",
                "outputId": "0992c7d3-59f6-4e32-c0e1-f0a8a2ee2559"
            },
            "outputs": [
                {
                    "data": {
                        "text/plain": "{'APPLES': 0, 'BANANA': 1, 'ORANGE': 2, 'PINEAPPLE': 3, 'WATERMELON': 4}"
                    },
                    "execution_count": 57,
                    "metadata": {},
                    "output_type": "execute_result"
                }
            ],
            "source": "x_train.class_indices"
        },
        {
            "cell_type": "code",
            "execution_count": 58,
            "metadata": {
                "colab": {
                    "base_uri": "https://localhost:8080/"
                },
                "id": "8yQBL-XWwHYo",
                "outputId": "70f2fa88-0d22-450a-9c38-5b1339671823"
            },
            "outputs": [
                {
                    "data": {
                        "text/plain": "{'APPLES': 0, 'BANANA': 1, 'ORANGE': 2, 'PINEAPPLE': 3, 'WATERMELON': 4}"
                    },
                    "execution_count": 58,
                    "metadata": {},
                    "output_type": "execute_result"
                }
            ],
            "source": "#checking the number of classes\nx_test.class_indices"
        },
        {
            "cell_type": "code",
            "execution_count": 59,
            "metadata": {
                "colab": {
                    "base_uri": "https://localhost:8080/"
                },
                "id": "5kkwGjMlwXyN",
                "outputId": "31e37e74-8c0c-4412-c39d-ff9a57a0326f"
            },
            "outputs": [
                {
                    "data": {
                        "text/plain": "Counter({0: 606, 1: 445, 2: 479, 3: 621, 4: 475})"
                    },
                    "execution_count": 59,
                    "metadata": {},
                    "output_type": "execute_result"
                }
            ],
            "source": "from collections import Counter as c\nc(x_train .labels)"
        },
        {
            "cell_type": "code",
            "execution_count": 60,
            "metadata": {
                "id": "yeE5JqRUwakD"
            },
            "outputs": [],
            "source": "#Initializing the model\nmodel = Sequential()"
        },
        {
            "cell_type": "markdown",
            "metadata": {
                "id": "cL1tOODTweAV"
            },
            "source": " Add First convolution layer"
        },
        {
            "cell_type": "code",
            "execution_count": 61,
            "metadata": {
                "id": "48y_JaKIwgcz"
            },
            "outputs": [],
            "source": "model.add(Convolution2D(32,(3,3),input_shape=(64,64,3),activation=\"relu\"))\n# 32 indicates => no of feature detectors\n#(3,3)=> kernel size (feature detector size)"
        },
        {
            "cell_type": "markdown",
            "metadata": {
                "id": "qeHVVj2pwogL"
            },
            "source": " Add Maxpooling layer"
        },
        {
            "cell_type": "code",
            "execution_count": 62,
            "metadata": {
                "id": "BlqItMBPwnD_"
            },
            "outputs": [],
            "source": "model.add(MaxPooling2D(pool_size=(2,2)))"
        },
        {
            "cell_type": "markdown",
            "metadata": {
                "id": "SL1tnudIw1fj"
            },
            "source": "Second convolution layer and pooling"
        },
        {
            "cell_type": "code",
            "execution_count": 63,
            "metadata": {
                "id": "9WsKCHy2w2df"
            },
            "outputs": [],
            "source": "model.add(Convolution2D(32,(3,3),activation='relu'))"
        },
        {
            "cell_type": "code",
            "execution_count": 64,
            "metadata": {
                "id": "oKg9BQwOw6dl"
            },
            "outputs": [],
            "source": "model.add(MaxPooling2D(pool_size=(2,2)))"
        },
        {
            "cell_type": "markdown",
            "metadata": {
                "id": "kXqbX8UXw9lj"
            },
            "source": "Flattening the layers"
        },
        {
            "cell_type": "code",
            "execution_count": 65,
            "metadata": {
                "id": "9kMWYwHcw-wg"
            },
            "outputs": [],
            "source": "model.add(Flatten())"
        },
        {
            "cell_type": "code",
            "execution_count": 66,
            "metadata": {
                "id": "Akc-Ocf-xDXv"
            },
            "outputs": [],
            "source": "model.add(Dense(units=128,activation='relu'))"
        },
        {
            "cell_type": "code",
            "execution_count": 67,
            "metadata": {
                "id": "2mLa1j90xHL1"
            },
            "outputs": [],
            "source": "model.add(Dense(units=5,activation='softmax'))"
        },
        {
            "cell_type": "code",
            "execution_count": 68,
            "metadata": {
                "colab": {
                    "base_uri": "https://localhost:8080/"
                },
                "id": "ArT6X56NxKQM",
                "outputId": "04af5049-e8a4-41bd-e184-df6ed3a2f171",
                "scrolled": true
            },
            "outputs": [
                {
                    "name": "stdout",
                    "output_type": "stream",
                    "text": "Model: \"sequential_1\"\n_________________________________________________________________\n Layer (type)                Output Shape              Param #   \n=================================================================\n conv2d_2 (Conv2D)           (None, 62, 62, 32)        896       \n                                                                 \n max_pooling2d_2 (MaxPooling  (None, 31, 31, 32)       0         \n 2D)                                                             \n                                                                 \n conv2d_3 (Conv2D)           (None, 29, 29, 32)        9248      \n                                                                 \n max_pooling2d_3 (MaxPooling  (None, 14, 14, 32)       0         \n 2D)                                                             \n                                                                 \n flatten_1 (Flatten)         (None, 6272)              0         \n                                                                 \n dense_7 (Dense)             (None, 128)               802944    \n                                                                 \n dense_8 (Dense)             (None, 5)                 645       \n                                                                 \n=================================================================\nTotal params: 813,733\nTrainable params: 813,733\nNon-trainable params: 0\n_________________________________________________________________\n"
                }
            ],
            "source": "model.summary()"
        },
        {
            "cell_type": "markdown",
            "metadata": {
                "id": "qc-Rn0ZLxZhG"
            },
            "source": "Adding dense layer"
        },
        {
            "cell_type": "code",
            "execution_count": 69,
            "metadata": {
                "id": "3D92w4m1xYZP"
            },
            "outputs": [],
            "source": "model.add(Dense(units=300,kernel_initializer=\"random_uniform\",activation=\"relu\"))\nmodel.add(Dense(units=200,kernel_initializer=\"random_uniform\",activation=\"relu\"))"
        },
        {
            "cell_type": "markdown",
            "metadata": {
                "id": "9rn2iXoaxndd"
            },
            "source": "output layer"
        },
        {
            "cell_type": "code",
            "execution_count": 70,
            "metadata": {
                "colab": {
                    "base_uri": "https://localhost:8080/"
                },
                "id": "jjSfZCKhxjpB",
                "outputId": "de0bb77c-4c6d-42c3-d3e0-286628296178",
                "scrolled": true
            },
            "outputs": [
                {
                    "data": {
                        "text/plain": "526"
                    },
                    "execution_count": 70,
                    "metadata": {},
                    "output_type": "execute_result"
                }
            ],
            "source": "model.add(Dense(units=4,kernel_initializer=\"random_uniform\",activation=\"softmax\"))\nlen(x_train)"
        },
        {
            "cell_type": "code",
            "execution_count": 71,
            "metadata": {
                "id": "JR10cc_dxzS6"
            },
            "outputs": [],
            "source": "model.add(Dense(units=128,activation=\"relu\",kernel_initializer=\"random_uniform\"))\nmodel.add(Dense(units=1,activation=\"sigmoid\",kernel_initializer=\"random_uniform\"))"
        },
        {
            "cell_type": "code",
            "execution_count": 72,
            "metadata": {
                "id": "V8O7Bda6x0oI"
            },
            "outputs": [],
            "source": "#Compile the model\nmodel.compile(loss=\"binary_crossentropy\",optimizer=\"adam\",metrics=['categorical_accuracy'])"
        },
        {
            "cell_type": "code",
            "execution_count": 73,
            "metadata": {
                "colab": {
                    "base_uri": "https://localhost:8080/"
                },
                "id": "-hDmlQfOyo2C",
                "outputId": "8dc6669b-110e-4a1a-ac76-ad91fa81607a"
            },
            "outputs": [
                {
                    "name": "stderr",
                    "output_type": "stream",
                    "text": "/tmp/wsuser/ipykernel_14742/4034974430.py:2: UserWarning: `Model.fit_generator` is deprecated and will be removed in a future version. Please use `Model.fit`, which supports generators.\n  model.fit_generator(generator = x_train,steps_per_epoch=len(x_train), validation_data=x_test, validation_steps=len(x_test), epochs= 20)\n"
                },
                {
                    "name": "stdout",
                    "output_type": "stream",
                    "text": "Epoch 1/20\n526/526 [==============================] - 28s 51ms/step - loss: -19.3983 - categorical_accuracy: 1.0000 - val_loss: -62.0921 - val_categorical_accuracy: 1.0000\nEpoch 2/20\n526/526 [==============================] - 28s 52ms/step - loss: -139.7842 - categorical_accuracy: 1.0000 - val_loss: -247.0661 - val_categorical_accuracy: 1.0000\nEpoch 3/20\n526/526 [==============================] - 27s 51ms/step - loss: -367.1317 - categorical_accuracy: 1.0000 - val_loss: -534.1108 - val_categorical_accuracy: 1.0000\nEpoch 4/20\n526/526 [==============================] - 26s 49ms/step - loss: -687.4178 - categorical_accuracy: 1.0000 - val_loss: -911.0656 - val_categorical_accuracy: 1.0000\nEpoch 5/20\n526/526 [==============================] - 27s 51ms/step - loss: -1088.1598 - categorical_accuracy: 1.0000 - val_loss: -1368.6124 - val_categorical_accuracy: 1.0000\nEpoch 6/20\n526/526 [==============================] - 26s 50ms/step - loss: -1560.6125 - categorical_accuracy: 1.0000 - val_loss: -1896.5260 - val_categorical_accuracy: 1.0000\nEpoch 7/20\n526/526 [==============================] - 27s 51ms/step - loss: -2100.9919 - categorical_accuracy: 1.0000 - val_loss: -2489.0422 - val_categorical_accuracy: 1.0000\nEpoch 8/20\n526/526 [==============================] - 27s 50ms/step - loss: -2700.8938 - categorical_accuracy: 1.0000 - val_loss: -3144.1169 - val_categorical_accuracy: 1.0000\nEpoch 9/20\n526/526 [==============================] - 27s 51ms/step - loss: -3360.0361 - categorical_accuracy: 1.0000 - val_loss: -3858.3564 - val_categorical_accuracy: 1.0000\nEpoch 10/20\n526/526 [==============================] - 27s 51ms/step - loss: -4073.1360 - categorical_accuracy: 1.0000 - val_loss: -4627.6357 - val_categorical_accuracy: 1.0000\nEpoch 11/20\n526/526 [==============================] - 27s 51ms/step - loss: -4841.2612 - categorical_accuracy: 1.0000 - val_loss: -5460.9946 - val_categorical_accuracy: 1.0000\nEpoch 12/20\n526/526 [==============================] - 28s 52ms/step - loss: -5669.1108 - categorical_accuracy: 1.0000 - val_loss: -6354.5391 - val_categorical_accuracy: 1.0000\nEpoch 13/20\n526/526 [==============================] - 27s 51ms/step - loss: -6555.0132 - categorical_accuracy: 1.0000 - val_loss: -7306.3574 - val_categorical_accuracy: 1.0000\nEpoch 14/20\n526/526 [==============================] - 27s 50ms/step - loss: -7497.4229 - categorical_accuracy: 1.0000 - val_loss: -8316.2461 - val_categorical_accuracy: 1.0000\nEpoch 15/20\n526/526 [==============================] - 26s 50ms/step - loss: -8495.6719 - categorical_accuracy: 1.0000 - val_loss: -9382.6143 - val_categorical_accuracy: 1.0000\nEpoch 16/20\n526/526 [==============================] - 26s 50ms/step - loss: -9555.0830 - categorical_accuracy: 1.0000 - val_loss: -10510.4805 - val_categorical_accuracy: 1.0000\nEpoch 17/20\n526/526 [==============================] - 26s 49ms/step - loss: -10659.2637 - categorical_accuracy: 1.0000 - val_loss: -11679.5059 - val_categorical_accuracy: 1.0000\nEpoch 18/20\n526/526 [==============================] - 26s 50ms/step - loss: -11803.1377 - categorical_accuracy: 1.0000 - val_loss: -12898.1738 - val_categorical_accuracy: 1.0000\nEpoch 19/20\n526/526 [==============================] - 27s 51ms/step - loss: -13004.2227 - categorical_accuracy: 1.0000 - val_loss: -14174.5410 - val_categorical_accuracy: 1.0000\nEpoch 20/20\n526/526 [==============================] - 27s 52ms/step - loss: -14255.6738 - categorical_accuracy: 1.0000 - val_loss: -15505.9707 - val_categorical_accuracy: 1.0000\n"
                },
                {
                    "data": {
                        "text/plain": "<keras.callbacks.History at 0x7f3be8f59bb0>"
                    },
                    "execution_count": 73,
                    "metadata": {},
                    "output_type": "execute_result"
                }
            ],
            "source": "#Train the model\nmodel.fit_generator(generator = x_train,steps_per_epoch=len(x_train), validation_data=x_test, validation_steps=len(x_test), epochs= 20)"
        },
        {
            "cell_type": "code",
            "execution_count": 74,
            "metadata": {
                "id": "YV5Uj9pizXz9"
            },
            "outputs": [],
            "source": "model.save(\"nutrition.h5\")"
        },
        {
            "cell_type": "code",
            "execution_count": 97,
            "metadata": {},
            "outputs": [
                {
                    "name": "stdout",
                    "output_type": "stream",
                    "text": "nutrition.h5\r\n"
                }
            ],
            "source": "!tar -zcvf image-classification-model_new.tgz nutrition.h5"
        },
        {
            "cell_type": "code",
            "execution_count": 98,
            "metadata": {},
            "outputs": [
                {
                    "name": "stdout",
                    "output_type": "stream",
                    "text": "\u001b[0m\u001b[01;34mDataset\u001b[0m/\r\nimage-classification-model_new.tgz\r\nnutrition.h5\r\n\u001b[01;34mTEST_SET\u001b[0m/\r\n\u001b[01;34mTRAIN_SET\u001b[0m/\r\n"
                }
            ],
            "source": "ls -1"
        },
        {
            "cell_type": "code",
            "execution_count": 85,
            "metadata": {},
            "outputs": [
                {
                    "name": "stdout",
                    "output_type": "stream",
                    "text": "\u001b[33mWARNING: Ignoring invalid distribution -eras (/opt/conda/envs/Python-3.9/lib/python3.9/site-packages)\u001b[0m\n\u001b[33mWARNING: Ignoring invalid distribution -eras (/opt/conda/envs/Python-3.9/lib/python3.9/site-packages)\u001b[0m\nRequirement already satisfied: watson-machine-learning-client in /opt/conda/envs/Python-3.9/lib/python3.9/site-packages (1.0.391)\nRequirement already satisfied: requests in /opt/conda/envs/Python-3.9/lib/python3.9/site-packages (from watson-machine-learning-client) (2.26.0)\nRequirement already satisfied: urllib3 in /opt/conda/envs/Python-3.9/lib/python3.9/site-packages (from watson-machine-learning-client) (1.26.7)\nRequirement already satisfied: lomond in /opt/conda/envs/Python-3.9/lib/python3.9/site-packages (from watson-machine-learning-client) (0.3.3)\nRequirement already satisfied: pandas in /opt/conda/envs/Python-3.9/lib/python3.9/site-packages (from watson-machine-learning-client) (1.3.4)\nRequirement already satisfied: tabulate in /opt/conda/envs/Python-3.9/lib/python3.9/site-packages (from watson-machine-learning-client) (0.8.9)\nRequirement already satisfied: certifi in /opt/conda/envs/Python-3.9/lib/python3.9/site-packages (from watson-machine-learning-client) (2022.9.24)\nRequirement already satisfied: boto3 in /opt/conda/envs/Python-3.9/lib/python3.9/site-packages (from watson-machine-learning-client) (1.18.21)\nRequirement already satisfied: tqdm in /opt/conda/envs/Python-3.9/lib/python3.9/site-packages (from watson-machine-learning-client) (4.62.3)\nRequirement already satisfied: ibm-cos-sdk in /opt/conda/envs/Python-3.9/lib/python3.9/site-packages (from watson-machine-learning-client) (2.11.0)\nRequirement already satisfied: s3transfer<0.6.0,>=0.5.0 in /opt/conda/envs/Python-3.9/lib/python3.9/site-packages (from boto3->watson-machine-learning-client) (0.5.0)\nRequirement already satisfied: botocore<1.22.0,>=1.21.21 in /opt/conda/envs/Python-3.9/lib/python3.9/site-packages (from boto3->watson-machine-learning-client) (1.21.41)\nRequirement already satisfied: jmespath<1.0.0,>=0.7.1 in /opt/conda/envs/Python-3.9/lib/python3.9/site-packages (from boto3->watson-machine-learning-client) (0.10.0)\nRequirement already satisfied: python-dateutil<3.0.0,>=2.1 in /opt/conda/envs/Python-3.9/lib/python3.9/site-packages (from botocore<1.22.0,>=1.21.21->boto3->watson-machine-learning-client) (2.8.2)\nRequirement already satisfied: six>=1.5 in /opt/conda/envs/Python-3.9/lib/python3.9/site-packages (from python-dateutil<3.0.0,>=2.1->botocore<1.22.0,>=1.21.21->boto3->watson-machine-learning-client) (1.15.0)\nRequirement already satisfied: ibm-cos-sdk-core==2.11.0 in /opt/conda/envs/Python-3.9/lib/python3.9/site-packages (from ibm-cos-sdk->watson-machine-learning-client) (2.11.0)\nRequirement already satisfied: ibm-cos-sdk-s3transfer==2.11.0 in /opt/conda/envs/Python-3.9/lib/python3.9/site-packages (from ibm-cos-sdk->watson-machine-learning-client) (2.11.0)\nRequirement already satisfied: charset-normalizer~=2.0.0 in /opt/conda/envs/Python-3.9/lib/python3.9/site-packages (from requests->watson-machine-learning-client) (2.0.4)\nRequirement already satisfied: idna<4,>=2.5 in /opt/conda/envs/Python-3.9/lib/python3.9/site-packages (from requests->watson-machine-learning-client) (3.3)\nRequirement already satisfied: pytz>=2017.3 in /opt/conda/envs/Python-3.9/lib/python3.9/site-packages (from pandas->watson-machine-learning-client) (2021.3)\nRequirement already satisfied: numpy>=1.17.3 in /opt/conda/envs/Python-3.9/lib/python3.9/site-packages (from pandas->watson-machine-learning-client) (1.20.3)\n\u001b[33mWARNING: Ignoring invalid distribution -eras (/opt/conda/envs/Python-3.9/lib/python3.9/site-packages)\u001b[0m\n"
                }
            ],
            "source": "!pip install watson-machine-learning-client --upgrade"
        },
        {
            "cell_type": "code",
            "execution_count": 88,
            "metadata": {},
            "outputs": [],
            "source": "from ibm_watson_machine_learning import APIClient\nwml_credentials = {\n    \"url\" : \"https://us-south.ml.cloud.ibm.com\",\n    \"apikey\" : \"QKtFm4wTTKhziFFQpDOfqhD2C6lwQAQIsT3omYGKVfQ5\"\n}\n\nclient = APIClient(wml_credentials)"
        },
        {
            "cell_type": "code",
            "execution_count": 91,
            "metadata": {},
            "outputs": [],
            "source": "def guid_from_space_name(client, space_name):\n    space = client.spaces.get_details()\n    return (next(item for item in space[\"resources\"] if item[\"entity\"][\"name\"] == space_name)[\"metadata\"][\"id\"])"
        },
        {
            "cell_type": "code",
            "execution_count": 93,
            "metadata": {},
            "outputs": [
                {
                    "data": {
                        "text/plain": "'aca75642-f167-439e-aefc-f9b0dd422812'"
                    },
                    "execution_count": 93,
                    "metadata": {},
                    "output_type": "execute_result"
                }
            ],
            "source": "space_uid = guid_from_space_name(client, \"nutrition_model\")\nspace_uid"
        },
        {
            "cell_type": "code",
            "execution_count": 94,
            "metadata": {},
            "outputs": [
                {
                    "data": {
                        "text/plain": "'SUCCESS'"
                    },
                    "execution_count": 94,
                    "metadata": {},
                    "output_type": "execute_result"
                }
            ],
            "source": "client.set.default_space(space_uid)"
        },
        {
            "cell_type": "code",
            "execution_count": 95,
            "metadata": {},
            "outputs": [
                {
                    "name": "stdout",
                    "output_type": "stream",
                    "text": "-----------------------------  ------------------------------------  ----\nNAME                           ASSET_ID                              TYPE\ndefault_py3.6                  0062b8c9-8b7d-44a0-a9b9-46c416adcbd9  base\nkernel-spark3.2-scala2.12      020d69ce-7ac1-5e68-ac1a-31189867356a  base\npytorch-onnx_1.3-py3.7-edt     069ea134-3346-5748-b513-49120e15d288  base\nscikit-learn_0.20-py3.6        09c5a1d0-9c1e-4473-a344-eb7b665ff687  base\nspark-mllib_3.0-scala_2.12     09f4cff0-90a7-5899-b9ed-1ef348aebdee  base\npytorch-onnx_rt22.1-py3.9      0b848dd4-e681-5599-be41-b5f6fccc6471  base\nai-function_0.1-py3.6          0cdb0f1e-5376-4f4d-92dd-da3b69aa9bda  base\nshiny-r3.6                     0e6e79df-875e-4f24-8ae9-62dcc2148306  base\ntensorflow_2.4-py3.7-horovod   1092590a-307d-563d-9b62-4eb7d64b3f22  base\npytorch_1.1-py3.6              10ac12d6-6b30-4ccd-8392-3e922c096a92  base\ntensorflow_1.15-py3.6-ddl      111e41b3-de2d-5422-a4d6-bf776828c4b7  base\nautoai-kb_rt22.2-py3.10        125b6d9a-5b1f-5e8d-972a-b251688ccf40  base\nruntime-22.1-py3.9             12b83a17-24d8-5082-900f-0ab31fbfd3cb  base\nscikit-learn_0.22-py3.6        154010fa-5b3b-4ac1-82af-4d5ee5abbc85  base\ndefault_r3.6                   1b70aec3-ab34-4b87-8aa0-a4a3c8296a36  base\npytorch-onnx_1.3-py3.6         1bc6029a-cc97-56da-b8e0-39c3880dbbe7  base\nkernel-spark3.3-r3.6           1c9e5454-f216-59dd-a20e-474a5cdf5988  base\npytorch-onnx_rt22.1-py3.9-edt  1d362186-7ad5-5b59-8b6c-9d0880bde37f  base\ntensorflow_2.1-py3.6           1eb25b84-d6ed-5dde-b6a5-3fbdf1665666  base\nspark-mllib_3.2                20047f72-0a98-58c7-9ff5-a77b012eb8f5  base\ntensorflow_2.4-py3.8-horovod   217c16f6-178f-56bf-824a-b19f20564c49  base\nruntime-22.1-py3.9-cuda        26215f05-08c3-5a41-a1b0-da66306ce658  base\ndo_py3.8                       295addb5-9ef9-547e-9bf4-92ae3563e720  base\nautoai-ts_3.8-py3.8            2aa0c932-798f-5ae9-abd6-15e0c2402fb5  base\ntensorflow_1.15-py3.6          2b73a275-7cbf-420b-a912-eae7f436e0bc  base\nkernel-spark3.3-py3.9          2b7961e2-e3b1-5a8c-a491-482c8368839a  base\npytorch_1.2-py3.6              2c8ef57d-2687-4b7d-acce-01f94976dac1  base\nspark-mllib_2.3                2e51f700-bca0-4b0d-88dc-5c6791338875  base\npytorch-onnx_1.1-py3.6-edt     32983cea-3f32-4400-8965-dde874a8d67e  base\nspark-mllib_3.0-py37           36507ebe-8770-55ba-ab2a-eafe787600e9  base\nspark-mllib_2.4                390d21f8-e58b-4fac-9c55-d7ceda621326  base\nautoai-ts_rt22.2-py3.10        396b2e83-0953-5b86-9a55-7ce1628a406f  base\nxgboost_0.82-py3.6             39e31acd-5f30-41dc-ae44-60233c80306e  base\npytorch-onnx_1.2-py3.6-edt     40589d0e-7019-4e28-8daa-fb03b6f4fe12  base\npytorch-onnx_rt22.2-py3.10     40e73f55-783a-5535-b3fa-0c8b94291431  base\ndefault_r36py38                41c247d3-45f8-5a71-b065-8580229facf0  base\nautoai-ts_rt22.1-py3.9         4269d26e-07ba-5d40-8f66-2d495b0c71f7  base\nautoai-obm_3.0                 42b92e18-d9ab-567f-988a-4240ba1ed5f7  base\npmml-3.0_4.3                   493bcb95-16f1-5bc5-bee8-81b8af80e9c7  base\nspark-mllib_2.4-r_3.6          49403dff-92e9-4c87-a3d7-a42d0021c095  base\nxgboost_0.90-py3.6             4ff8d6c2-1343-4c18-85e1-689c965304d3  base\npytorch-onnx_1.1-py3.6         50f95b2a-bc16-43bb-bc94-b0bed208c60b  base\nautoai-ts_3.9-py3.8            52c57136-80fa-572e-8728-a5e7cbb42cde  base\nspark-mllib_2.4-scala_2.11     55a70f99-7320-4be5-9fb9-9edb5a443af5  base\nspark-mllib_3.0                5c1b0ca2-4977-5c2e-9439-ffd44ea8ffe9  base\nautoai-obm_2.0                 5c2e37fa-80b8-5e77-840f-d912469614ee  base\nspss-modeler_18.1              5c3cad7e-507f-4b2a-a9a3-ab53a21dee8b  base\ncuda-py3.8                     5d3232bf-c86b-5df4-a2cd-7bb870a1cd4e  base\nruntime-22.2-py3.10-xc         5e8cddff-db4a-5a6a-b8aa-2d4af9864dab  base\nautoai-kb_3.1-py3.7            632d4b22-10aa-5180-88f0-f52dfb6444d7  base\n-----------------------------  ------------------------------------  ----\nNote: Only first 50 records were displayed. To display more use 'limit' parameter.\n"
                }
            ],
            "source": "client.software_specifications.list()"
        },
        {
            "cell_type": "code",
            "execution_count": 120,
            "metadata": {},
            "outputs": [
                {
                    "data": {
                        "text/plain": "'111e41b3-de2d-5422-a4d6-bf776828c4b7'"
                    },
                    "execution_count": 120,
                    "metadata": {},
                    "output_type": "execute_result"
                }
            ],
            "source": "software_spec_uid = client.software_specifications.get_uid_by_name(\"tensorflow_1.15-py3.6-ddl\")\nsoftware_spec_uid"
        },
        {
            "cell_type": "code",
            "execution_count": 125,
            "metadata": {
                "scrolled": true
            },
            "outputs": [
                {
                    "name": "stderr",
                    "output_type": "stream",
                    "text": "Unexpected type of artifact to download or Artifact with artifact_uid: 'image-classification-model_new.tgz' does not exist.\n"
                },
                {
                    "ename": "WMLClientError",
                    "evalue": "Unexpected type of artifact to download or Artifact with artifact_uid: 'image-classification-model_new.tgz' does not exist.",
                    "output_type": "error",
                    "traceback": [
                        "\u001b[0;31m---------------------------------------------------------------------------\u001b[0m",
                        "\u001b[0;31mWMLClientError\u001b[0m                            Traceback (most recent call last)",
                        "\u001b[0;32m/tmp/wsuser/ipykernel_14742/3000003073.py\u001b[0m in \u001b[0;36m<module>\u001b[0;34m\u001b[0m\n\u001b[0;32m----> 1\u001b[0;31m \u001b[0mclient\u001b[0m\u001b[0;34m.\u001b[0m\u001b[0mrepository\u001b[0m\u001b[0;34m.\u001b[0m\u001b[0mdownload\u001b[0m\u001b[0;34m(\u001b[0m\u001b[0;34m\"image-classification-model_new.tgz\"\u001b[0m\u001b[0;34m)\u001b[0m\u001b[0;34m\u001b[0m\u001b[0;34m\u001b[0m\u001b[0m\n\u001b[0m",
                        "\u001b[0;32m/opt/conda/envs/Python-3.9/lib/python3.9/site-packages/ibm_watson_machine_learning/repository.py\u001b[0m in \u001b[0;36mdownload\u001b[0;34m(self, artifact_uid, filename, rev_uid, format)\u001b[0m\n\u001b[1;32m    911\u001b[0m             \u001b[0;32mreturn\u001b[0m \u001b[0mself\u001b[0m\u001b[0;34m.\u001b[0m\u001b[0m_client\u001b[0m\u001b[0;34m.\u001b[0m\u001b[0mruntimes\u001b[0m\u001b[0;34m.\u001b[0m\u001b[0mdownload_configuration\u001b[0m\u001b[0;34m(\u001b[0m\u001b[0martifact_uid\u001b[0m\u001b[0;34m,\u001b[0m \u001b[0mfilename\u001b[0m\u001b[0;34m)\u001b[0m\u001b[0;34m\u001b[0m\u001b[0;34m\u001b[0m\u001b[0m\n\u001b[1;32m    912\u001b[0m         \u001b[0;32melse\u001b[0m\u001b[0;34m:\u001b[0m\u001b[0;34m\u001b[0m\u001b[0;34m\u001b[0m\u001b[0m\n\u001b[0;32m--> 913\u001b[0;31m             \u001b[0;32mraise\u001b[0m \u001b[0mWMLClientError\u001b[0m\u001b[0;34m(\u001b[0m\u001b[0;34m'Unexpected type of artifact to download or Artifact with artifact_uid: \\'{}\\' does not exist.'\u001b[0m\u001b[0;34m.\u001b[0m\u001b[0mformat\u001b[0m\u001b[0;34m(\u001b[0m\u001b[0martifact_uid\u001b[0m\u001b[0;34m)\u001b[0m \u001b[0;34m)\u001b[0m\u001b[0;34m\u001b[0m\u001b[0;34m\u001b[0m\u001b[0m\n\u001b[0m\u001b[1;32m    914\u001b[0m \u001b[0;34m\u001b[0m\u001b[0m\n\u001b[1;32m    915\u001b[0m     \u001b[0;34m@\u001b[0m\u001b[0mdocstring_parameter\u001b[0m\u001b[0;34m(\u001b[0m\u001b[0;34m{\u001b[0m\u001b[0;34m'str_type'\u001b[0m\u001b[0;34m:\u001b[0m \u001b[0mSTR_TYPE_NAME\u001b[0m\u001b[0;34m}\u001b[0m\u001b[0;34m)\u001b[0m\u001b[0;34m\u001b[0m\u001b[0;34m\u001b[0m\u001b[0m\n",
                        "\u001b[0;31mWMLClientError\u001b[0m: Unexpected type of artifact to download or Artifact with artifact_uid: 'image-classification-model_new.tgz' does not exist."
                    ]
                }
            ],
            "source": "client.repository.download(\"image-classification-model_new.tgz\")"
        },
        {
            "cell_type": "markdown",
            "metadata": {
                "id": "fZb6oD9XOUo-"
            },
            "source": "Prediction the result"
        },
        {
            "cell_type": "code",
            "execution_count": 75,
            "metadata": {
                "id": "lTgwQuAlLBa-"
            },
            "outputs": [],
            "source": "from tensorflow.keras.models import load_model\nfrom keras.preprocessing  import image\nmodel =load_model(\"nutrition.h5\")"
        },
        {
            "cell_type": "code",
            "execution_count": 76,
            "metadata": {
                "id": "o4jazNBOObcu"
            },
            "outputs": [],
            "source": "import numpy as np"
        },
        {
            "cell_type": "code",
            "execution_count": 81,
            "metadata": {
                "colab": {
                    "base_uri": "https://localhost:8080/"
                },
                "id": "_hH2sFs7OiAG",
                "outputId": "95c17834-7433-41f3-c427-bd19d57f4998"
            },
            "outputs": [
                {
                    "data": {
                        "text/plain": "0"
                    },
                    "execution_count": 81,
                    "metadata": {},
                    "output_type": "execute_result"
                }
            ],
            "source": "from tensorflow.keras.utils import load_img\nfrom tensorflow.keras.utils import img_to_array\n#loading of the image\nimg = load_img(r'/home/wsuser/work/Dataset/TEST_SET/WATERMELON/130_100.jpg', grayscale=False,target_size=(64,64))\n#image to array \nx = img_to_array(img)\n#changing the shape\nx= np.expand_dims(x,axis = 0)\npredict_x=model.predict(x)\n\nclasses_x=np.argmax(predict_x,axis = 1)\nclasses_x[0]"
        },
        {
            "cell_type": "code",
            "execution_count": 78,
            "metadata": {},
            "outputs": [
                {
                    "data": {
                        "text/plain": "'APPLES'"
                    },
                    "execution_count": 78,
                    "metadata": {},
                    "output_type": "execute_result"
                }
            ],
            "source": "# x = image.img_to_array(img)#image to array\n# x = np.expand_dims(x,axis=0) #changing the shape =\n# y =np.argmax(model.predict(x),axis=1)\n# index=['APPLES', 'BANANA', 'ORANGE','PINEAPPLE','WATERMELON']\n# index[y[0]]"
        },
        {
            "cell_type": "code",
            "execution_count": 82,
            "metadata": {
                "colab": {
                    "base_uri": "https://localhost:8080/",
                    "height": 36
                },
                "id": "sW0aExjmPPLE",
                "outputId": "ffd16b01-0e6b-49e7-bc2e-cbead141f647"
            },
            "outputs": [
                {
                    "data": {
                        "text/plain": "'BANANA'"
                    },
                    "execution_count": 82,
                    "metadata": {},
                    "output_type": "execute_result"
                }
            ],
            "source": "index=['BANANA','APPLES', 'ORANGE', 'PINEAPPLE', 'WATERMELON']\nresult=str(index[classes_x[val[0]]])\nresult"
        },
        {
            "cell_type": "code",
            "execution_count": null,
            "metadata": {},
            "outputs": [],
            "source": ""
        }
    ],
    "metadata": {
        "colab": {
            "authorship_tag": "ABX9TyMKwiQcimwDG7RbS7DUCnHR",
            "include_colab_link": true,
            "provenance": []
        },
        "kernelspec": {
            "display_name": "Python 3.9",
            "language": "python",
            "name": "python3"
        },
        "language_info": {
            "codemirror_mode": {
                "name": "ipython",
                "version": 3
            },
            "file_extension": ".py",
            "mimetype": "text/x-python",
            "name": "python",
            "nbconvert_exporter": "python",
            "pygments_lexer": "ipython3",
            "version": "3.9.13"
        }
    },
    "nbformat": 4,
    "nbformat_minor": 1
}