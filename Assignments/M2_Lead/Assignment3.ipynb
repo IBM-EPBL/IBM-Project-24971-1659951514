{
  "cells": [
    {
      "cell_type": "markdown",
      "metadata": {
        "id": "view-in-github",
        "colab_type": "text"
      },
      "source": [
        "<a href=\"https://colab.research.google.com/github/IBM-EPBL/IBM-Project-24971-1659951514/blob/master/Assignments/M2_Lead/Assignment3.ipynb\" target=\"_parent\"><img src=\"https://colab.research.google.com/assets/colab-badge.svg\" alt=\"Open In Colab\"/></a>"
      ]
    },
    {
      "cell_type": "markdown",
      "metadata": {
        "id": "JgrErU7qP_7Z"
      },
      "source": [
        "Assignment 3\n",
        "CNN MODEL FOR FLOWER CLASSIFICATION"
      ]
    },
    {
      "cell_type": "code",
      "execution_count": 24,
      "metadata": {
        "colab": {
          "base_uri": "https://localhost:8080/"
        },
        "id": "nofTru_kMMH8",
        "outputId": "2a1b4967-fd32-4c88-b262-f01c71309a91"
      },
      "outputs": [
        {
          "output_type": "stream",
          "name": "stdout",
          "text": [
            "Mounted at /content/drive\n"
          ]
        }
      ],
      "source": [
        "from google.colab import drive\n",
        "drive.mount('/content/drive')"
      ]
    },
    {
      "cell_type": "code",
      "execution_count": 25,
      "metadata": {
        "id": "Rh1QPJYQRYAC"
      },
      "outputs": [],
      "source": [
        "from tensorflow.keras.preprocessing.image import ImageDataGenerator"
      ]
    },
    {
      "cell_type": "code",
      "execution_count": 26,
      "metadata": {
        "id": "gfKviIu3RbXA"
      },
      "outputs": [],
      "source": [
        "train_datagen=ImageDataGenerator(rescale=1./255, zoom_range=0.2,horizontal_flip=True,vertical_flip=False)"
      ]
    },
    {
      "cell_type": "code",
      "execution_count": 27,
      "metadata": {
        "id": "FFCCNfkoRfBc"
      },
      "outputs": [],
      "source": [
        "test_datagen=ImageDataGenerator(rescale=1./255)"
      ]
    },
    {
      "cell_type": "code",
      "execution_count": 28,
      "metadata": {
        "colab": {
          "base_uri": "https://localhost:8080/"
        },
        "id": "v_-cVZS8Rh8z",
        "outputId": "a99da966-581f-4626-b2c0-33c83bb5fc38"
      },
      "outputs": [
        {
          "output_type": "stream",
          "name": "stdout",
          "text": [
            "Found 4317 images belonging to 5 classes.\n"
          ]
        }
      ],
      "source": [
        "x_train=train_datagen.flow_from_directory(r\"/content/drive/MyDrive/content/Flowers-Dataset/flowers\",target_size=(64,64),class_mode='categorical',batch_size=24)"
      ]
    },
    {
      "cell_type": "code",
      "execution_count": 29,
      "metadata": {
        "colab": {
          "base_uri": "https://localhost:8080/"
        },
        "id": "OL5Y_NDnRmHf",
        "outputId": "6ebdf373-b18f-461e-d408-8cb1f5045080"
      },
      "outputs": [
        {
          "output_type": "stream",
          "name": "stdout",
          "text": [
            "Found 4317 images belonging to 5 classes.\n"
          ]
        }
      ],
      "source": [
        "x_test=test_datagen.flow_from_directory(r\"/content/drive/MyDrive/content/Flowers-Dataset/flowers\",target_size=(64,64),class_mode='categorical',batch_size=24)"
      ]
    },
    {
      "cell_type": "code",
      "execution_count": 30,
      "metadata": {
        "colab": {
          "base_uri": "https://localhost:8080/"
        },
        "id": "oV9wKPWJRpDc",
        "outputId": "4d34b7d4-b081-4058-89b5-e8fc20cf5a96"
      },
      "outputs": [
        {
          "output_type": "execute_result",
          "data": {
            "text/plain": [
              "{'daisy': 0, 'dandelion': 1, 'rose': 2, 'sunflower': 3, 'tulip': 4}"
            ]
          },
          "metadata": {},
          "execution_count": 30
        }
      ],
      "source": [
        "x_train.class_indices"
      ]
    },
    {
      "cell_type": "code",
      "execution_count": 31,
      "metadata": {
        "id": "uoH8zA2kRrZD"
      },
      "outputs": [],
      "source": [
        "from tensorflow.keras.models import Sequential\n",
        "from tensorflow.keras.layers import Dense,Convolution2D,MaxPooling2D,Flatten"
      ]
    },
    {
      "cell_type": "code",
      "execution_count": 32,
      "metadata": {
        "id": "uIfnKOLcRwEc"
      },
      "outputs": [],
      "source": [
        "model=Sequential()"
      ]
    },
    {
      "cell_type": "code",
      "execution_count": 33,
      "metadata": {
        "id": "0KyIiA7MRyb7"
      },
      "outputs": [],
      "source": [
        "model.add(Convolution2D(32,(3,3),input_shape=(64,64,3),activation='relu'))"
      ]
    },
    {
      "cell_type": "code",
      "execution_count": 34,
      "metadata": {
        "id": "0Q2c4vfGR2en"
      },
      "outputs": [],
      "source": [
        "model.add(MaxPooling2D(pool_size=(2,2)))"
      ]
    },
    {
      "cell_type": "code",
      "execution_count": 35,
      "metadata": {
        "id": "huetso_YR4k4"
      },
      "outputs": [],
      "source": [
        "model.add(Flatten())"
      ]
    },
    {
      "cell_type": "code",
      "execution_count": 36,
      "metadata": {
        "id": "whLqFa8ZR6Yh",
        "colab": {
          "base_uri": "https://localhost:8080/"
        },
        "outputId": "2f503b78-d371-4ec3-f97a-33b02d53ef0a"
      },
      "outputs": [
        {
          "output_type": "stream",
          "name": "stdout",
          "text": [
            "Model: \"sequential\"\n",
            "_________________________________________________________________\n",
            " Layer (type)                Output Shape              Param #   \n",
            "=================================================================\n",
            " conv2d (Conv2D)             (None, 62, 62, 32)        896       \n",
            "                                                                 \n",
            " max_pooling2d (MaxPooling2D  (None, 31, 31, 32)       0         \n",
            " )                                                               \n",
            "                                                                 \n",
            " flatten (Flatten)           (None, 30752)             0         \n",
            "                                                                 \n",
            "=================================================================\n",
            "Total params: 896\n",
            "Trainable params: 896\n",
            "Non-trainable params: 0\n",
            "_________________________________________________________________\n"
          ]
        }
      ],
      "source": [
        "model.summary()"
      ]
    },
    {
      "cell_type": "code",
      "execution_count": 37,
      "metadata": {
        "id": "-8_sdc97R8pO"
      },
      "outputs": [],
      "source": [
        "model.add(Dense(300,activation='relu'))\n",
        "model.add(Dense(150,activation='relu'))"
      ]
    },
    {
      "cell_type": "code",
      "execution_count": 38,
      "metadata": {
        "id": "9hY7ijiuTPRh"
      },
      "outputs": [],
      "source": [
        "model.add(Dense(5,activation='softmax'))"
      ]
    },
    {
      "cell_type": "code",
      "execution_count": 39,
      "metadata": {
        "id": "T7xDtHFITRKq"
      },
      "outputs": [],
      "source": [
        "model.compile(loss='categorical_crossentropy',optimizer='adam',metrics=['accuracy'])"
      ]
    },
    {
      "cell_type": "code",
      "execution_count": 40,
      "metadata": {
        "id": "NmFWUgmPTTSt",
        "colab": {
          "base_uri": "https://localhost:8080/"
        },
        "outputId": "04e257af-4723-4be6-a445-18b0f130477c"
      },
      "outputs": [
        {
          "output_type": "execute_result",
          "data": {
            "text/plain": [
              "180"
            ]
          },
          "metadata": {},
          "execution_count": 40
        }
      ],
      "source": [
        "len(x_train)"
      ]
    },
    {
      "cell_type": "code",
      "execution_count": 41,
      "metadata": {
        "colab": {
          "base_uri": "https://localhost:8080/"
        },
        "id": "4fUEZiKFTVJR",
        "outputId": "418a3cc9-6c12-4506-868e-45490ecd2abf"
      },
      "outputs": [
        {
          "output_type": "stream",
          "name": "stderr",
          "text": [
            "/usr/local/lib/python3.7/dist-packages/ipykernel_launcher.py:1: UserWarning: `Model.fit_generator` is deprecated and will be removed in a future version. Please use `Model.fit`, which supports generators.\n",
            "  \"\"\"Entry point for launching an IPython kernel.\n"
          ]
        },
        {
          "output_type": "stream",
          "name": "stdout",
          "text": [
            "Epoch 1/30\n",
            "180/180 [==============================] - 1536s 8s/step - loss: 1.2080 - accuracy: 0.5096 - val_loss: 0.9592 - val_accuracy: 0.6173\n",
            "Epoch 2/30\n",
            "180/180 [==============================] - 71s 394ms/step - loss: 0.9749 - accuracy: 0.6222 - val_loss: 1.0043 - val_accuracy: 0.6055\n",
            "Epoch 3/30\n",
            "180/180 [==============================] - 67s 374ms/step - loss: 0.8836 - accuracy: 0.6516 - val_loss: 0.7840 - val_accuracy: 0.6931\n",
            "Epoch 4/30\n",
            "180/180 [==============================] - 68s 381ms/step - loss: 0.8181 - accuracy: 0.6854 - val_loss: 0.7951 - val_accuracy: 0.6940\n",
            "Epoch 5/30\n",
            "180/180 [==============================] - 68s 377ms/step - loss: 0.7680 - accuracy: 0.7044 - val_loss: 0.7770 - val_accuracy: 0.7216\n",
            "Epoch 6/30\n",
            "180/180 [==============================] - 69s 385ms/step - loss: 0.7046 - accuracy: 0.7301 - val_loss: 0.5595 - val_accuracy: 0.7987\n",
            "Epoch 7/30\n",
            "180/180 [==============================] - 69s 385ms/step - loss: 0.6737 - accuracy: 0.7494 - val_loss: 0.5844 - val_accuracy: 0.7765\n",
            "Epoch 8/30\n",
            "180/180 [==============================] - 68s 376ms/step - loss: 0.5948 - accuracy: 0.7779 - val_loss: 0.5565 - val_accuracy: 0.7913\n",
            "Epoch 9/30\n",
            "180/180 [==============================] - 69s 384ms/step - loss: 0.5799 - accuracy: 0.7848 - val_loss: 0.4950 - val_accuracy: 0.8168\n",
            "Epoch 10/30\n",
            "180/180 [==============================] - 70s 387ms/step - loss: 0.5155 - accuracy: 0.8082 - val_loss: 0.4772 - val_accuracy: 0.8175\n",
            "Epoch 11/30\n",
            "180/180 [==============================] - 68s 380ms/step - loss: 0.4934 - accuracy: 0.8158 - val_loss: 0.4330 - val_accuracy: 0.8429\n",
            "Epoch 12/30\n",
            "180/180 [==============================] - 68s 379ms/step - loss: 0.4627 - accuracy: 0.8321 - val_loss: 0.3116 - val_accuracy: 0.8858\n",
            "Epoch 13/30\n",
            "180/180 [==============================] - 69s 381ms/step - loss: 0.4156 - accuracy: 0.8497 - val_loss: 0.4561 - val_accuracy: 0.8330\n",
            "Epoch 14/30\n",
            "180/180 [==============================] - 67s 372ms/step - loss: 0.3883 - accuracy: 0.8573 - val_loss: 0.2925 - val_accuracy: 0.9027\n",
            "Epoch 15/30\n",
            "180/180 [==============================] - 71s 393ms/step - loss: 0.3560 - accuracy: 0.8707 - val_loss: 0.2757 - val_accuracy: 0.9057\n",
            "Epoch 16/30\n",
            "180/180 [==============================] - 67s 372ms/step - loss: 0.3295 - accuracy: 0.8870 - val_loss: 0.2792 - val_accuracy: 0.8948\n",
            "Epoch 17/30\n",
            "180/180 [==============================] - 67s 374ms/step - loss: 0.3009 - accuracy: 0.8921 - val_loss: 0.2062 - val_accuracy: 0.9321\n",
            "Epoch 18/30\n",
            "180/180 [==============================] - 69s 382ms/step - loss: 0.2814 - accuracy: 0.9046 - val_loss: 0.2210 - val_accuracy: 0.9215\n",
            "Epoch 19/30\n",
            "180/180 [==============================] - 67s 372ms/step - loss: 0.2789 - accuracy: 0.9018 - val_loss: 0.1695 - val_accuracy: 0.9370\n",
            "Epoch 20/30\n",
            "180/180 [==============================] - 70s 392ms/step - loss: 0.2372 - accuracy: 0.9157 - val_loss: 0.1735 - val_accuracy: 0.9428\n",
            "Epoch 21/30\n",
            "180/180 [==============================] - 68s 378ms/step - loss: 0.2335 - accuracy: 0.9148 - val_loss: 0.1667 - val_accuracy: 0.9483\n",
            "Epoch 22/30\n",
            "180/180 [==============================] - 69s 383ms/step - loss: 0.2379 - accuracy: 0.9187 - val_loss: 0.1783 - val_accuracy: 0.9384\n",
            "Epoch 23/30\n",
            "180/180 [==============================] - 69s 385ms/step - loss: 0.1869 - accuracy: 0.9372 - val_loss: 0.1582 - val_accuracy: 0.9483\n",
            "Epoch 24/30\n",
            "180/180 [==============================] - 67s 374ms/step - loss: 0.2073 - accuracy: 0.9293 - val_loss: 0.1189 - val_accuracy: 0.9595\n",
            "Epoch 25/30\n",
            "180/180 [==============================] - 70s 390ms/step - loss: 0.1862 - accuracy: 0.9328 - val_loss: 0.1158 - val_accuracy: 0.9632\n",
            "Epoch 26/30\n",
            "180/180 [==============================] - 67s 371ms/step - loss: 0.1744 - accuracy: 0.9428 - val_loss: 0.1293 - val_accuracy: 0.9562\n",
            "Epoch 27/30\n",
            "180/180 [==============================] - 67s 373ms/step - loss: 0.1637 - accuracy: 0.9463 - val_loss: 0.2912 - val_accuracy: 0.9022\n",
            "Epoch 28/30\n",
            "180/180 [==============================] - 69s 381ms/step - loss: 0.1647 - accuracy: 0.9442 - val_loss: 0.1431 - val_accuracy: 0.9511\n",
            "Epoch 29/30\n",
            "180/180 [==============================] - 69s 383ms/step - loss: 0.1704 - accuracy: 0.9451 - val_loss: 0.1123 - val_accuracy: 0.9650\n",
            "Epoch 30/30\n",
            "180/180 [==============================] - 68s 375ms/step - loss: 0.1404 - accuracy: 0.9534 - val_loss: 0.0900 - val_accuracy: 0.9699\n"
          ]
        },
        {
          "output_type": "execute_result",
          "data": {
            "text/plain": [
              "<keras.callbacks.History at 0x7f06a03e0150>"
            ]
          },
          "metadata": {},
          "execution_count": 41
        }
      ],
      "source": [
        "model.fit_generator(x_train,steps_per_epoch=len(x_train), validation_data=x_test, validation_steps=len(x_test), epochs= 30)"
      ]
    },
    {
      "cell_type": "code",
      "execution_count": 42,
      "metadata": {
        "id": "kPRKX8XSTXnK"
      },
      "outputs": [],
      "source": [
        "model.save('Flowers_classification_model1.h5')"
      ]
    },
    {
      "cell_type": "code",
      "execution_count": 43,
      "metadata": {
        "id": "4q34JkGZTalg",
        "colab": {
          "base_uri": "https://localhost:8080/"
        },
        "outputId": "24dccc9e-b10a-4231-9a90-d2cbf8a852a2"
      },
      "outputs": [
        {
          "output_type": "stream",
          "name": "stdout",
          "text": [
            "\u001b[0m\u001b[01;34mdrive\u001b[0m/  Flowers_classification_model1.h5  \u001b[01;34msample_data\u001b[0m/\n"
          ]
        }
      ],
      "source": [
        "ls"
      ]
    },
    {
      "cell_type": "code",
      "execution_count": 44,
      "metadata": {
        "id": "BdUZJ4upTcsh"
      },
      "outputs": [],
      "source": [
        "import numpy as np\n",
        "from tensorflow.keras.models import load_model\n",
        "from tensorflow.keras.preprocessing import image\n",
        "from tensorflow.keras.utils import load_img\n",
        "from tensorflow.keras.utils import img_to_array"
      ]
    },
    {
      "cell_type": "code",
      "execution_count": 45,
      "metadata": {
        "id": "evgAqP52TgUf"
      },
      "outputs": [],
      "source": [
        "model=load_model('Flowers_classification_model1.h5')"
      ]
    },
    {
      "cell_type": "code",
      "execution_count": 48,
      "metadata": {
        "id": "EjCxAFeWTkH-",
        "colab": {
          "base_uri": "https://localhost:8080/",
          "height": 54
        },
        "outputId": "115bf2ca-a46a-41a6-f0e3-82b38a368664"
      },
      "outputs": [
        {
          "output_type": "stream",
          "name": "stdout",
          "text": [
            "1/1 [==============================] - 0s 114ms/step\n"
          ]
        },
        {
          "output_type": "execute_result",
          "data": {
            "text/plain": [
              "'sunflower'"
            ],
            "application/vnd.google.colaboratory.intrinsic+json": {
              "type": "string"
            }
          },
          "metadata": {},
          "execution_count": 48
        }
      ],
      "source": [
        "img=load_img(r\"/content/drive/MyDrive/content/s23.jpg\",target_size=(64,64))\n",
        "x=img_to_array(img)\n",
        "x=np.expand_dims(x,axis=0)\n",
        "y=np.argmax(model.predict(x),axis=1)\n",
        "# x_train.class_indices\n",
        "index=['daisy','dandelion','rose','sunflower','tulip']\n",
        "index[y[0]]"
      ]
    }
  ],
  "metadata": {
    "colab": {
      "provenance": [],
      "authorship_tag": "ABX9TyOIRKYjTv6j09ONS3HYd5bk",
      "include_colab_link": true
    },
    "kernelspec": {
      "display_name": "Python 3",
      "name": "python3"
    },
    "language_info": {
      "name": "python"
    }
  },
  "nbformat": 4,
  "nbformat_minor": 0
}